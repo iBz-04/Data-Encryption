{
 "cells": [
  {
   "cell_type": "code",
   "execution_count": 1,
   "id": "08b1d598-ee56-470e-9528-3a0fb77032ab",
   "metadata": {},
   "outputs": [
    {
     "name": "stdout",
     "output_type": "stream",
     "text": [
      "Requirement already satisfied: cryptography in c:\\users\\rtx\\anaconda3\\lib\\site-packages (43.0.0)\n",
      "Requirement already satisfied: cffi>=1.12 in c:\\users\\rtx\\anaconda3\\lib\\site-packages (from cryptography) (1.17.1)\n",
      "Requirement already satisfied: pycparser in c:\\users\\rtx\\anaconda3\\lib\\site-packages (from cffi>=1.12->cryptography) (2.21)\n",
      "Note: you may need to restart the kernel to use updated packages.\n"
     ]
    }
   ],
   "source": [
    "pip install cryptography\n"
   ]
  },
  {
   "cell_type": "code",
   "execution_count": 3,
   "id": "ef71af52-6e6d-4818-9949-a3d59ac8c90d",
   "metadata": {},
   "outputs": [],
   "source": [
    "# secret key generation\n",
    "from cryptography.fernet import Fernet"
   ]
  },
  {
   "cell_type": "code",
   "execution_count": 5,
   "id": "08603cce-e375-4667-90d1-95140ca92242",
   "metadata": {},
   "outputs": [
    {
     "data": {
      "text/plain": [
       "b'D-g20-lK36QlO3taH8cQIXLtSadlFbw4ATciiLEQKss='"
      ]
     },
     "execution_count": 5,
     "metadata": {},
     "output_type": "execute_result"
    }
   ],
   "source": [
    "key = Fernet.generate_key()\n",
    "key\n"
   ]
  },
  {
   "cell_type": "code",
   "execution_count": 7,
   "id": "7dc6c37b-7cf3-4de7-897b-20b245725043",
   "metadata": {},
   "outputs": [],
   "source": [
    "# Encryption\n",
    "fernet = Fernet(key)\n"
   ]
  },
  {
   "cell_type": "code",
   "execution_count": 9,
   "id": "9469c6b0-ffaf-41cc-a621-5fed01bfa891",
   "metadata": {},
   "outputs": [],
   "source": [
    "# wrting key\n",
    "with open('key.key', 'wb') as filekey:\n",
    "    filekey.write(key)"
   ]
  },
  {
   "cell_type": "code",
   "execution_count": 15,
   "id": "625b22a5-a593-4078-bc3a-8c0c7d73af80",
   "metadata": {},
   "outputs": [],
   "source": [
    "# reading key\n",
    "\n",
    "with open('key.key', 'rb') as filekey:\n",
    "    key=filekey.read()"
   ]
  },
  {
   "cell_type": "code",
   "execution_count": 37,
   "id": "5d89c7f2-d5a6-4470-a315-e928b3f2fe15",
   "metadata": {},
   "outputs": [],
   "source": [
    "# read file\n",
    "\n",
    "with open('patient.jpg', 'rb') as file:\n",
    "    original_file = file.read()"
   ]
  },
  {
   "cell_type": "code",
   "execution_count": 39,
   "id": "3260b38a-78a0-4bfd-aad8-28eda422c329",
   "metadata": {},
   "outputs": [],
   "source": [
    "encrypted = fernet.encrypt(original_file)"
   ]
  },
  {
   "cell_type": "code",
   "execution_count": 41,
   "id": "0ab5e7b1-c85f-4f9f-b05b-198806f1c89b",
   "metadata": {},
   "outputs": [],
   "source": [
    "with open('encrypted patient.jpg', 'wb') as file:\n",
    "    file.write(encrypted)"
   ]
  },
  {
   "cell_type": "markdown",
   "id": "280a5f29-c1d5-4a53-a137-6a782c8b0ca0",
   "metadata": {},
   "source": [
    "DECRYPTION\n"
   ]
  },
  {
   "cell_type": "code",
   "execution_count": 33,
   "id": "36837e90-d0f9-464c-8342-b4a4e1a3dbf6",
   "metadata": {},
   "outputs": [
    {
     "ename": "ValueError",
     "evalue": "Fernet key must be 32 url-safe base64-encoded bytes.",
     "output_type": "error",
     "traceback": [
      "\u001b[1;31m---------------------------------------------------------------------------\u001b[0m",
      "\u001b[1;31mValueError\u001b[0m                                Traceback (most recent call last)",
      "Cell \u001b[1;32mIn[33], line 1\u001b[0m\n\u001b[1;32m----> 1\u001b[0m fernet \u001b[38;5;241m=\u001b[39m Fernet(key)\n",
      "File \u001b[1;32m~\\anaconda3\\Lib\\site-packages\\cryptography\\fernet.py:40\u001b[0m, in \u001b[0;36mFernet.__init__\u001b[1;34m(self, key, backend)\u001b[0m\n\u001b[0;32m     36\u001b[0m     \u001b[38;5;28;01mraise\u001b[39;00m \u001b[38;5;167;01mValueError\u001b[39;00m(\n\u001b[0;32m     37\u001b[0m         \u001b[38;5;124m\"\u001b[39m\u001b[38;5;124mFernet key must be 32 url-safe base64-encoded bytes.\u001b[39m\u001b[38;5;124m\"\u001b[39m\n\u001b[0;32m     38\u001b[0m     ) \u001b[38;5;28;01mfrom\u001b[39;00m \u001b[38;5;21;01mexc\u001b[39;00m\n\u001b[0;32m     39\u001b[0m \u001b[38;5;28;01mif\u001b[39;00m \u001b[38;5;28mlen\u001b[39m(key) \u001b[38;5;241m!=\u001b[39m \u001b[38;5;241m32\u001b[39m:\n\u001b[1;32m---> 40\u001b[0m     \u001b[38;5;28;01mraise\u001b[39;00m \u001b[38;5;167;01mValueError\u001b[39;00m(\n\u001b[0;32m     41\u001b[0m         \u001b[38;5;124m\"\u001b[39m\u001b[38;5;124mFernet key must be 32 url-safe base64-encoded bytes.\u001b[39m\u001b[38;5;124m\"\u001b[39m\n\u001b[0;32m     42\u001b[0m     )\n\u001b[0;32m     44\u001b[0m \u001b[38;5;28mself\u001b[39m\u001b[38;5;241m.\u001b[39m_signing_key \u001b[38;5;241m=\u001b[39m key[:\u001b[38;5;241m16\u001b[39m]\n\u001b[0;32m     45\u001b[0m \u001b[38;5;28mself\u001b[39m\u001b[38;5;241m.\u001b[39m_encryption_key \u001b[38;5;241m=\u001b[39m key[\u001b[38;5;241m16\u001b[39m:]\n",
      "\u001b[1;31mValueError\u001b[0m: Fernet key must be 32 url-safe base64-encoded bytes."
     ]
    }
   ],
   "source": [
    "fernet = Fernet(key)"
   ]
  },
  {
   "cell_type": "code",
   "execution_count": 43,
   "id": "ace4b435-0651-4c65-97fb-26ff37584134",
   "metadata": {},
   "outputs": [],
   "source": [
    "with open('encrypted patient.jpg', 'rb') as file:\n",
    "    encrypted_file = file.read()"
   ]
  },
  {
   "cell_type": "code",
   "execution_count": 27,
   "id": "6aed9895-002f-4c3d-bace-4f3488eb06d9",
   "metadata": {},
   "outputs": [],
   "source": [
    "decrypted = fernet.decrypt(encrypted_file)"
   ]
  },
  {
   "cell_type": "code",
   "execution_count": 45,
   "id": "e2c162a6-75be-41a8-a2e1-a807b073ffeb",
   "metadata": {},
   "outputs": [],
   "source": [
    "with open('decrypted patient.jpg', 'wb') as file:\n",
    "    file.write(decrypted)"
   ]
  },
  {
   "cell_type": "code",
   "execution_count": null,
   "id": "3bcc9243-7e8f-48e7-a1a3-4ef9c90f563d",
   "metadata": {},
   "outputs": [],
   "source": []
  }
 ],
 "metadata": {
  "kernelspec": {
   "display_name": "Python 3 (ipykernel)",
   "language": "python",
   "name": "python3"
  },
  "language_info": {
   "codemirror_mode": {
    "name": "ipython",
    "version": 3
   },
   "file_extension": ".py",
   "mimetype": "text/x-python",
   "name": "python",
   "nbconvert_exporter": "python",
   "pygments_lexer": "ipython3",
   "version": "3.12.7"
  }
 },
 "nbformat": 4,
 "nbformat_minor": 5
}
